{
 "cells": [
  {
   "cell_type": "code",
   "execution_count": null,
   "metadata": {
    "collapsed": true
   },
   "outputs": [],
   "source": [
    "import keras\n",
    "from keras.models import Sequential\n",
    "from keras.layers import Dense, Activation\n",
    "from time import time\n",
    "import numpy as np\n",
    "from pandas import read_json, DataFrame\n",
    "import pandas as pd\n",
    "import pickle\n",
    "from sklearn.model_selection import train_test_split\n",
    "from sklearn.metrics import classification_report, confusion_matrix"
   ]
  },
  {
   "cell_type": "code",
   "execution_count": null,
   "metadata": {
    "collapsed": true
   },
   "outputs": [],
   "source": [
    "# For a single-input model with 2 classes (binary classification):\n",
    "\n",
    "model = Sequential()\n",
    "model.add(Dense(32, activation='relu', input_dim=300))\n",
    "model.add(Dense(1, activation='sigmoid'))\n",
    "model.compile(optimizer='rmsprop',\n",
    "              loss='binary_crossentropy',\n",
    "              metrics=['accuracy'])\n",
    "\n",
    "t0 = time()\n",
    "with open('jokes.df.pickle', 'rb') as pickle_file:\n",
    "    df = pickle.load(pickle_file)\n",
    "print(\"done in %0.3fs\" % (time() - t0))\n",
    "\n",
    "print('Flattening {} d2v lists ...'.format(df.d2v.values.shape[0]))\n",
    "X = np.reshape([r for r in df.d2v.values], (df.d2v.values.shape[0], 300))\n",
    "#y = pd.cut(df.score, [-1, 15, 50000], labels=['MEH', 'GOOD'])\n",
    "y = pd.cut(df.score, [-1, 15, 50000], labels=[0, 1])\n",
    "print(df.score.describe())\n",
    "print(\"done in %0.3fs\" % (time() - t0))\n",
    "\n",
    "print('Splitting into a training and testing set ...')\n",
    "X_train, X_test, y_train, y_test = train_test_split(\n",
    "    X, y, test_size=0.25, random_state=42)\n",
    "print(\"done in %0.3fs\" % (time() - t0))\n",
    "\n",
    "# Train the model, iterating on the data in batches of 32 samples\n",
    "model.fit(X_train, y_train, epochs=10, batch_size=32)\n",
    "score_test = model.evaluate(X_test, y_test, batch_size=32)\n",
    "y_pred_test = model.predict(X_test)\n",
    "y_pred_train = model.predict(X_train)\n",
    "print (\"Train Results\\n\")\n",
    "print(confusion_matrix(y_train, y_pred_train))\n",
    "#print(classification_report(y_train, y_pred_train))\n",
    "print (\"Test Results\\n\")\n",
    "print(classification_report(y_test, y_pred_test))\n",
    "print(confusion_matrix(y_test, y_pred_test))\n",
    "\n",
    "score_train = model.evaluate(X_train, y_train, batch_size=32)"
   ]
  }
 ],
 "metadata": {
  "kernelspec": {
   "display_name": "Python 3",
   "language": "python",
   "name": "python3"
  },
  "language_info": {
   "codemirror_mode": {
    "name": "ipython",
    "version": 3
   },
   "file_extension": ".py",
   "mimetype": "text/x-python",
   "name": "python",
   "nbconvert_exporter": "python",
   "pygments_lexer": "ipython3",
   "version": "3.5.4"
  }
 },
 "nbformat": 4,
 "nbformat_minor": 2
}
