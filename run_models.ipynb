{
 "cells": [
  {
   "cell_type": "code",
   "execution_count": 52,
   "metadata": {},
   "outputs": [],
   "source": [
    "import numpy as np\n",
    "import pandas as pd\n",
    "from sklearn.model_selection import train_test_split\n",
    "from xgboost.sklearn import XGBClassifier\n",
    "from sklearn.metrics import classification_report, accuracy_score, confusion_matrix"
   ]
  },
  {
   "cell_type": "code",
   "execution_count": 6,
   "metadata": {},
   "outputs": [],
   "source": [
    "df = pd.read_csv('topics_df.zip', compression='zip')\n",
    "del df['id']"
   ]
  },
  {
   "cell_type": "code",
   "execution_count": 16,
   "metadata": {},
   "outputs": [],
   "source": [
    "X = df.drop('score', axis=1)\n",
    "Y = df['score']\n",
    "labels = [0, 1]\n",
    "Y = pd.cut(Y, [0, 250, 100000], include_lowest=True, labels=labels)"
   ]
  },
  {
   "cell_type": "code",
   "execution_count": 17,
   "metadata": {
    "collapsed": true
   },
   "outputs": [],
   "source": [
    "x_train, x_test, y_train, y_test = train_test_split(X, Y, test_size = 0.25, random_state=42)"
   ]
  },
  {
   "cell_type": "code",
   "execution_count": null,
   "metadata": {},
   "outputs": [],
   "source": []
  },
  {
   "cell_type": "code",
   "execution_count": 18,
   "metadata": {
    "collapsed": true
   },
   "outputs": [],
   "source": [
    "xgbmodel = XGBClassifier(\n",
    "    learning_rate =0.1,\n",
    "     n_estimators=1000,\n",
    "     max_depth=5,\n",
    "     min_child_weight=1,\n",
    "     subsample=0.7,\n",
    "     colsample_bytree=0.7,\n",
    "     objective= 'binary:logistic',\n",
    "     nthread=3,\n",
    "     seed=42)"
   ]
  },
  {
   "cell_type": "code",
   "execution_count": 23,
   "metadata": {},
   "outputs": [
    {
     "data": {
      "text/plain": [
       "XGBClassifier(base_score=0.5, colsample_bylevel=1, colsample_bytree=0.7,\n",
       "       gamma=0, learning_rate=0.1, max_delta_step=0, max_depth=5,\n",
       "       min_child_weight=1, missing=None, n_estimators=1000, nthread=3,\n",
       "       objective='binary:logistic', reg_alpha=0, reg_lambda=1,\n",
       "       scale_pos_weight=1, seed=42, silent=True, subsample=0.7)"
      ]
     },
     "execution_count": 23,
     "metadata": {},
     "output_type": "execute_result"
    }
   ],
   "source": [
    "xgbmodel.fit(x_train, y_train)"
   ]
  },
  {
   "cell_type": "code",
   "execution_count": 38,
   "metadata": {},
   "outputs": [],
   "source": [
    "train_predictions = xgbmodel.predict(x_train)\n",
    "test_probs = xgbmodel.predict_proba(x_test)[:,1]\n",
    "labels = [0, 1]\n",
    "y_pred = pd.cut(test_probs, [0, 0.057, 1], include_lowest=True, labels=labels)\n",
    "    "
   ]
  },
  {
   "cell_type": "code",
   "execution_count": 48,
   "metadata": {},
   "outputs": [
    {
     "data": {
      "text/plain": [
       "2"
      ]
     },
     "execution_count": 48,
     "metadata": {},
     "output_type": "execute_result"
    }
   ],
   "source": [
    "len(labels)"
   ]
  },
  {
   "cell_type": "code",
   "execution_count": 53,
   "metadata": {},
   "outputs": [
    {
     "name": "stdout",
     "output_type": "stream",
     "text": [
      "             precision    recall  f1-score   support\n",
      "\n",
      "          0       0.96      0.78      0.86     41896\n",
      "          1       0.09      0.40      0.15      2418\n",
      "\n",
      "avg / total       0.91      0.76      0.82     44314\n",
      "\n",
      "[[32607  9289]\n",
      " [ 1443   975]]\n"
     ]
    }
   ],
   "source": [
    "print(classification_report(y_test, np.array(y_pred), labels=labels))\n",
    "print(confusion_matrix(y_test, y_pred, labels=labels))"
   ]
  },
  {
   "cell_type": "code",
   "execution_count": 54,
   "metadata": {
    "collapsed": true
   },
   "outputs": [],
   "source": [
    "def fitXGB(xgbmodel, x_train, x_test, y_train, y_test, cutoff = 0.056, print_report = True):\n",
    "    xgbmodel.fit(x_train, y_train)\n",
    "    test_probs = xgbmodel.predict_proba(x_test)[:,1]\n",
    "    labels = [0, 1]\n",
    "    y_pred = pd.cut(test_probs, [0, cutoff, 1], include_lowest=True, labels=labels)\n",
    "    \n",
    "    if print_report:\n",
    "        print(classification_report(y_test, y_pred, labels=labels))\n",
    "        print(confusion_matrix(y_test, y_pred, labels=labels))\n",
    "    else:\n",
    "        return accuracy_score(y_test, y_pred)"
   ]
  },
  {
   "cell_type": "code",
   "execution_count": 55,
   "metadata": {},
   "outputs": [
    {
     "name": "stdout",
     "output_type": "stream",
     "text": [
      "             precision    recall  f1-score   support\n",
      "\n",
      "          0       0.96      0.77      0.85     41896\n",
      "          1       0.09      0.41      0.15      2418\n",
      "\n",
      "avg / total       0.91      0.75      0.82     44314\n",
      "\n",
      "[[32299  9597]\n",
      " [ 1422   996]]\n"
     ]
    }
   ],
   "source": [
    "fitXGB(xgbmodel, x_train, x_test, y_train, y_test)"
   ]
  },
  {
   "cell_type": "code",
   "execution_count": null,
   "metadata": {
    "collapsed": true
   },
   "outputs": [],
   "source": []
  }
 ],
 "metadata": {
  "kernelspec": {
   "display_name": "Python 3",
   "language": "python",
   "name": "python3"
  },
  "language_info": {
   "codemirror_mode": {
    "name": "ipython",
    "version": 3
   },
   "file_extension": ".py",
   "mimetype": "text/x-python",
   "name": "python",
   "nbconvert_exporter": "python",
   "pygments_lexer": "ipython3",
   "version": "3.6.2"
  }
 },
 "nbformat": 4,
 "nbformat_minor": 2
}
